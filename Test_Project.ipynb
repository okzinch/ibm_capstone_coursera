{
 "cells": [
  {
   "cell_type": "markdown",
   "metadata": {},
   "source": [
    "MRI and Alzheimers\n",
    "Magnetic Resonance Imaging Comparisons of Demented and Nondemented Adults DataSet"
   ]
  },
  {
   "cell_type": "markdown",
   "metadata": {},
   "source": [
    "The dataset used for this study project was obtained by CC:00 Creative Commons Public Domain license at kaggle.com https://www.kaggle.com/jboysen/mri-and-alzheimers?select=oasis_longitudinal.csv\n",
    "\n",
    "'This set consists of a longitudinal collection of 150 subjects aged 60 to 96. Each subject was scanned on two or more visits, separated by at least one year for a total of 373 imaging sessions. For each subject, 3 or 4 individual T1-weighted MRI scans obtained in single scan sessions are included. The subjects are all right-handed and include both men and women. 72 of the subjects were characterized as nondemented throughout the study. 64 of the included subjects were characterized as demented at the time of their initial visits and remained so for subsequent scans, including 51 individuals with mild to moderate Alzheimer’s disease. Another 14 subjects were characterized as nondemented at the time of their initial visit and were subsequently characterized as demented at a later visit.\n",
    "Acknowledgements:\n",
    "\n",
    "When publishing findings that benefit from OASIS data, please include the following grant numbers in the acknowledgements section and in the associated Pubmed Central submission: P50 AG05681, P01 AG03991, R01 AG021910, P20 MH071616, U24 RR0213'"
   ]
  },
  {
   "cell_type": "code",
   "execution_count": 89,
   "metadata": {},
   "outputs": [],
   "source": [
    "import pandas as pd\n",
    "import numpy as np\n",
    "\n",
    "\n",
    "link2 = 'https://storage.googleapis.com/kagglesdsdata/datasets%2F1980%2F3398%2Foasis_longitudinal.csv?GoogleAccessId=gcp-kaggle-com@kaggle-161607.iam.gserviceaccount.com&Expires=1592166023&Signature=BrQ74M0vz5ds8klKjwaszBc2Oimog2aoKrotiYTYijh85pVi7bSSEKPra7eIrdgZ24VXWQ3%2BVwOOtp8tufqDF1%2F7U%2F5LKXg8%2BflFTSy5gabwE0hyNfRQAcXyOext5JjGfjBDiqlA%2FyNZ9QMrT8Q7oCXSjm7Uyw%2BmCsutp3ngQ%2F8xYuYRoEV4ZZ8Sow7WEEW1h9bOqfD7i%2Fw0QwI1Os3P6fCedih6i3ZUezXMWCjXsEfq3Paxr4i8e1RiVb7pF%2F2ucT%2FTb59BcfP8AVKP1VeJv%2BzLm0aISUDvmK4qRdvFTHuBqW0G4Y5yzSjKn42F2FdrUIzpLONiVNaOMkvESZA6gw%3D%3D'\n",
    "\n",
    "df = pd.read_csv(link2)\n",
    "\n",
    "df['M/F'] = df['M/F'].map({'M': 1, 'F': 0})\n",
    "df['Hand'] = df['Hand'].map({'R': 1, 'L': 0})\n",
    "df['Group'] = df['Group'].map({'Demented': 2, 'Nondemented': 4})"
   ]
  },
  {
   "cell_type": "code",
   "execution_count": 90,
   "metadata": {},
   "outputs": [
    {
     "data": {
      "text/html": [
       "<div>\n",
       "<style scoped>\n",
       "    .dataframe tbody tr th:only-of-type {\n",
       "        vertical-align: middle;\n",
       "    }\n",
       "\n",
       "    .dataframe tbody tr th {\n",
       "        vertical-align: top;\n",
       "    }\n",
       "\n",
       "    .dataframe thead th {\n",
       "        text-align: right;\n",
       "    }\n",
       "</style>\n",
       "<table border=\"1\" class=\"dataframe\">\n",
       "  <thead>\n",
       "    <tr style=\"text-align: right;\">\n",
       "      <th></th>\n",
       "      <th>Subject ID</th>\n",
       "      <th>MRI ID</th>\n",
       "      <th>Group</th>\n",
       "      <th>Visit</th>\n",
       "      <th>MR Delay</th>\n",
       "      <th>M/F</th>\n",
       "      <th>Hand</th>\n",
       "      <th>Age</th>\n",
       "      <th>EDUC</th>\n",
       "      <th>SES</th>\n",
       "      <th>MMSE</th>\n",
       "      <th>CDR</th>\n",
       "      <th>eTIV</th>\n",
       "      <th>nWBV</th>\n",
       "      <th>ASF</th>\n",
       "    </tr>\n",
       "  </thead>\n",
       "  <tbody>\n",
       "    <tr>\n",
       "      <th>0</th>\n",
       "      <td>OAS2_0001</td>\n",
       "      <td>OAS2_0001_MR1</td>\n",
       "      <td>4.0</td>\n",
       "      <td>1</td>\n",
       "      <td>0</td>\n",
       "      <td>1</td>\n",
       "      <td>1</td>\n",
       "      <td>87</td>\n",
       "      <td>14</td>\n",
       "      <td>2.0</td>\n",
       "      <td>27.0</td>\n",
       "      <td>0.0</td>\n",
       "      <td>1987</td>\n",
       "      <td>0.696</td>\n",
       "      <td>0.883</td>\n",
       "    </tr>\n",
       "    <tr>\n",
       "      <th>1</th>\n",
       "      <td>OAS2_0001</td>\n",
       "      <td>OAS2_0001_MR2</td>\n",
       "      <td>4.0</td>\n",
       "      <td>2</td>\n",
       "      <td>457</td>\n",
       "      <td>1</td>\n",
       "      <td>1</td>\n",
       "      <td>88</td>\n",
       "      <td>14</td>\n",
       "      <td>2.0</td>\n",
       "      <td>30.0</td>\n",
       "      <td>0.0</td>\n",
       "      <td>2004</td>\n",
       "      <td>0.681</td>\n",
       "      <td>0.876</td>\n",
       "    </tr>\n",
       "    <tr>\n",
       "      <th>5</th>\n",
       "      <td>OAS2_0004</td>\n",
       "      <td>OAS2_0004_MR1</td>\n",
       "      <td>4.0</td>\n",
       "      <td>1</td>\n",
       "      <td>0</td>\n",
       "      <td>0</td>\n",
       "      <td>1</td>\n",
       "      <td>88</td>\n",
       "      <td>18</td>\n",
       "      <td>3.0</td>\n",
       "      <td>28.0</td>\n",
       "      <td>0.0</td>\n",
       "      <td>1215</td>\n",
       "      <td>0.710</td>\n",
       "      <td>1.444</td>\n",
       "    </tr>\n",
       "    <tr>\n",
       "      <th>6</th>\n",
       "      <td>OAS2_0004</td>\n",
       "      <td>OAS2_0004_MR2</td>\n",
       "      <td>4.0</td>\n",
       "      <td>2</td>\n",
       "      <td>538</td>\n",
       "      <td>0</td>\n",
       "      <td>1</td>\n",
       "      <td>90</td>\n",
       "      <td>18</td>\n",
       "      <td>3.0</td>\n",
       "      <td>27.0</td>\n",
       "      <td>0.0</td>\n",
       "      <td>1200</td>\n",
       "      <td>0.718</td>\n",
       "      <td>1.462</td>\n",
       "    </tr>\n",
       "    <tr>\n",
       "      <th>7</th>\n",
       "      <td>OAS2_0005</td>\n",
       "      <td>OAS2_0005_MR1</td>\n",
       "      <td>4.0</td>\n",
       "      <td>1</td>\n",
       "      <td>0</td>\n",
       "      <td>1</td>\n",
       "      <td>1</td>\n",
       "      <td>80</td>\n",
       "      <td>12</td>\n",
       "      <td>4.0</td>\n",
       "      <td>28.0</td>\n",
       "      <td>0.0</td>\n",
       "      <td>1689</td>\n",
       "      <td>0.712</td>\n",
       "      <td>1.039</td>\n",
       "    </tr>\n",
       "    <tr>\n",
       "      <th>...</th>\n",
       "      <td>...</td>\n",
       "      <td>...</td>\n",
       "      <td>...</td>\n",
       "      <td>...</td>\n",
       "      <td>...</td>\n",
       "      <td>...</td>\n",
       "      <td>...</td>\n",
       "      <td>...</td>\n",
       "      <td>...</td>\n",
       "      <td>...</td>\n",
       "      <td>...</td>\n",
       "      <td>...</td>\n",
       "      <td>...</td>\n",
       "      <td>...</td>\n",
       "      <td>...</td>\n",
       "    </tr>\n",
       "    <tr>\n",
       "      <th>368</th>\n",
       "      <td>OAS2_0185</td>\n",
       "      <td>OAS2_0185_MR2</td>\n",
       "      <td>2.0</td>\n",
       "      <td>2</td>\n",
       "      <td>842</td>\n",
       "      <td>1</td>\n",
       "      <td>1</td>\n",
       "      <td>82</td>\n",
       "      <td>16</td>\n",
       "      <td>1.0</td>\n",
       "      <td>28.0</td>\n",
       "      <td>0.5</td>\n",
       "      <td>1693</td>\n",
       "      <td>0.694</td>\n",
       "      <td>1.037</td>\n",
       "    </tr>\n",
       "    <tr>\n",
       "      <th>369</th>\n",
       "      <td>OAS2_0185</td>\n",
       "      <td>OAS2_0185_MR3</td>\n",
       "      <td>2.0</td>\n",
       "      <td>3</td>\n",
       "      <td>2297</td>\n",
       "      <td>1</td>\n",
       "      <td>1</td>\n",
       "      <td>86</td>\n",
       "      <td>16</td>\n",
       "      <td>1.0</td>\n",
       "      <td>26.0</td>\n",
       "      <td>0.5</td>\n",
       "      <td>1688</td>\n",
       "      <td>0.675</td>\n",
       "      <td>1.040</td>\n",
       "    </tr>\n",
       "    <tr>\n",
       "      <th>370</th>\n",
       "      <td>OAS2_0186</td>\n",
       "      <td>OAS2_0186_MR1</td>\n",
       "      <td>4.0</td>\n",
       "      <td>1</td>\n",
       "      <td>0</td>\n",
       "      <td>0</td>\n",
       "      <td>1</td>\n",
       "      <td>61</td>\n",
       "      <td>13</td>\n",
       "      <td>2.0</td>\n",
       "      <td>30.0</td>\n",
       "      <td>0.0</td>\n",
       "      <td>1319</td>\n",
       "      <td>0.801</td>\n",
       "      <td>1.331</td>\n",
       "    </tr>\n",
       "    <tr>\n",
       "      <th>371</th>\n",
       "      <td>OAS2_0186</td>\n",
       "      <td>OAS2_0186_MR2</td>\n",
       "      <td>4.0</td>\n",
       "      <td>2</td>\n",
       "      <td>763</td>\n",
       "      <td>0</td>\n",
       "      <td>1</td>\n",
       "      <td>63</td>\n",
       "      <td>13</td>\n",
       "      <td>2.0</td>\n",
       "      <td>30.0</td>\n",
       "      <td>0.0</td>\n",
       "      <td>1327</td>\n",
       "      <td>0.796</td>\n",
       "      <td>1.323</td>\n",
       "    </tr>\n",
       "    <tr>\n",
       "      <th>372</th>\n",
       "      <td>OAS2_0186</td>\n",
       "      <td>OAS2_0186_MR3</td>\n",
       "      <td>4.0</td>\n",
       "      <td>3</td>\n",
       "      <td>1608</td>\n",
       "      <td>0</td>\n",
       "      <td>1</td>\n",
       "      <td>65</td>\n",
       "      <td>13</td>\n",
       "      <td>2.0</td>\n",
       "      <td>30.0</td>\n",
       "      <td>0.0</td>\n",
       "      <td>1333</td>\n",
       "      <td>0.801</td>\n",
       "      <td>1.317</td>\n",
       "    </tr>\n",
       "  </tbody>\n",
       "</table>\n",
       "<p>317 rows × 15 columns</p>\n",
       "</div>"
      ],
      "text/plain": [
       "    Subject ID         MRI ID  Group  Visit  MR Delay  M/F  Hand  Age  EDUC  \\\n",
       "0    OAS2_0001  OAS2_0001_MR1    4.0      1         0    1     1   87    14   \n",
       "1    OAS2_0001  OAS2_0001_MR2    4.0      2       457    1     1   88    14   \n",
       "5    OAS2_0004  OAS2_0004_MR1    4.0      1         0    0     1   88    18   \n",
       "6    OAS2_0004  OAS2_0004_MR2    4.0      2       538    0     1   90    18   \n",
       "7    OAS2_0005  OAS2_0005_MR1    4.0      1         0    1     1   80    12   \n",
       "..         ...            ...    ...    ...       ...  ...   ...  ...   ...   \n",
       "368  OAS2_0185  OAS2_0185_MR2    2.0      2       842    1     1   82    16   \n",
       "369  OAS2_0185  OAS2_0185_MR3    2.0      3      2297    1     1   86    16   \n",
       "370  OAS2_0186  OAS2_0186_MR1    4.0      1         0    0     1   61    13   \n",
       "371  OAS2_0186  OAS2_0186_MR2    4.0      2       763    0     1   63    13   \n",
       "372  OAS2_0186  OAS2_0186_MR3    4.0      3      1608    0     1   65    13   \n",
       "\n",
       "     SES  MMSE  CDR  eTIV   nWBV    ASF  \n",
       "0    2.0  27.0  0.0  1987  0.696  0.883  \n",
       "1    2.0  30.0  0.0  2004  0.681  0.876  \n",
       "5    3.0  28.0  0.0  1215  0.710  1.444  \n",
       "6    3.0  27.0  0.0  1200  0.718  1.462  \n",
       "7    4.0  28.0  0.0  1689  0.712  1.039  \n",
       "..   ...   ...  ...   ...    ...    ...  \n",
       "368  1.0  28.0  0.5  1693  0.694  1.037  \n",
       "369  1.0  26.0  0.5  1688  0.675  1.040  \n",
       "370  2.0  30.0  0.0  1319  0.801  1.331  \n",
       "371  2.0  30.0  0.0  1327  0.796  1.323  \n",
       "372  2.0  30.0  0.0  1333  0.801  1.317  \n",
       "\n",
       "[317 rows x 15 columns]"
      ]
     },
     "execution_count": 90,
     "metadata": {},
     "output_type": "execute_result"
    }
   ],
   "source": [
    "df.dropna()"
   ]
  },
  {
   "cell_type": "code",
   "execution_count": 91,
   "metadata": {},
   "outputs": [],
   "source": [
    "df = df[pd.to_numeric(df['Group'], errors='coerce').notnull()]\n",
    "df = df[pd.to_numeric(df['M/F'], errors='coerce').notnull()]\n",
    "df = df[pd.to_numeric(df['Hand'], errors='coerce').notnull()]\n",
    "df = df[pd.to_numeric(df['SES'], errors='coerce').notnull()]\n",
    "df = df[pd.to_numeric(df['MMSE'], errors='coerce').notnull()]\n",
    "df = df[pd.to_numeric(df['CDR'], errors='coerce').notnull()]\n",
    "df = df[pd.to_numeric(df['nWBV'], errors='coerce').notnull()]\n",
    "df = df[pd.to_numeric(df['ASF'], errors='coerce').notnull()]"
   ]
  },
  {
   "cell_type": "code",
   "execution_count": 92,
   "metadata": {},
   "outputs": [
    {
     "data": {
      "text/plain": [
       "array([[8.70e+01, 1.00e+00, 1.00e+00, 1.40e+01, 2.70e+01, 0.00e+00,\n",
       "        1.99e+03, 6.96e-01, 8.83e-01],\n",
       "       [8.80e+01, 1.00e+00, 1.00e+00, 1.40e+01, 3.00e+01, 0.00e+00,\n",
       "        2.00e+03, 6.81e-01, 8.76e-01],\n",
       "       [8.80e+01, 0.00e+00, 1.00e+00, 1.80e+01, 2.80e+01, 0.00e+00,\n",
       "        1.22e+03, 7.10e-01, 1.44e+00],\n",
       "       [9.00e+01, 0.00e+00, 1.00e+00, 1.80e+01, 2.70e+01, 0.00e+00,\n",
       "        1.20e+03, 7.18e-01, 1.46e+00],\n",
       "       [8.00e+01, 1.00e+00, 1.00e+00, 1.20e+01, 2.80e+01, 0.00e+00,\n",
       "        1.69e+03, 7.12e-01, 1.04e+00]])"
      ]
     },
     "execution_count": 92,
     "metadata": {},
     "output_type": "execute_result"
    }
   ],
   "source": [
    "feature_df = df[['Age', 'M/F', 'Hand', 'EDUC', 'MMSE', 'CDR', 'eTIV', 'nWBV', 'ASF']]\n",
    "X = np.asarray(feature_df)\n",
    "X[0:5]\n"
   ]
  },
  {
   "cell_type": "code",
   "execution_count": 93,
   "metadata": {},
   "outputs": [
    {
     "data": {
      "text/plain": [
       "array([4, 4, 4, 4, 4])"
      ]
     },
     "execution_count": 93,
     "metadata": {},
     "output_type": "execute_result"
    }
   ],
   "source": [
    "df['Group'] = df['Group'].astype('int')\n",
    "y = np.asarray(df['Group'])\n",
    "y [0:5]"
   ]
  },
  {
   "cell_type": "code",
   "execution_count": 94,
   "metadata": {},
   "outputs": [],
   "source": [
    "import pylab as pl\n",
    "import numpy as np\n",
    "import scipy.optimize as opt\n",
    "from sklearn import preprocessing\n",
    "from sklearn.model_selection import train_test_split\n",
    "%matplotlib inline \n",
    "import matplotlib.pyplot as plt"
   ]
  },
  {
   "cell_type": "code",
   "execution_count": 95,
   "metadata": {},
   "outputs": [
    {
     "name": "stdout",
     "output_type": "stream",
     "text": [
      "Train set: (253, 9) (253,)\n",
      "Test set: (64, 9) (64,)\n"
     ]
    }
   ],
   "source": [
    "X_train, X_test, y_train, y_test = train_test_split(X, y, test_size=0.2, random_state=4)\n",
    "print ('Train set:', X_train.shape,  y_train.shape)\n",
    "print ('Test set:', X_test.shape,  y_test.shape)"
   ]
  },
  {
   "cell_type": "code",
   "execution_count": 96,
   "metadata": {},
   "outputs": [
    {
     "data": {
      "text/plain": [
       "SVC(C=1.0, break_ties=False, cache_size=200, class_weight=None, coef0=0.0,\n",
       "    decision_function_shape='ovr', degree=3, gamma='scale', kernel='rbf',\n",
       "    max_iter=-1, probability=False, random_state=None, shrinking=True,\n",
       "    tol=0.001, verbose=False)"
      ]
     },
     "execution_count": 96,
     "metadata": {},
     "output_type": "execute_result"
    }
   ],
   "source": [
    "from sklearn import svm\n",
    "clf = svm.SVC(kernel='rbf')\n",
    "clf.fit(X_train, y_train) "
   ]
  },
  {
   "cell_type": "code",
   "execution_count": 97,
   "metadata": {},
   "outputs": [
    {
     "data": {
      "text/plain": [
       "array([4, 4, 4, 4, 4])"
      ]
     },
     "execution_count": 97,
     "metadata": {},
     "output_type": "execute_result"
    }
   ],
   "source": [
    "yhat = clf.predict(X_test)\n",
    "yhat [0:5]"
   ]
  },
  {
   "cell_type": "code",
   "execution_count": 98,
   "metadata": {},
   "outputs": [],
   "source": [
    "from sklearn.metrics import classification_report, confusion_matrix\n",
    "import itertools"
   ]
  },
  {
   "cell_type": "code",
   "execution_count": 12,
   "metadata": {},
   "outputs": [],
   "source": [
    "def plot_confusion_matrix(cm, classes,\n",
    "                          normalize=False,\n",
    "                          title='Confusion matrix',\n",
    "                          cmap=plt.cm.Blues):\n",
    "    \"\"\"\n",
    "    This function prints and plots the confusion matrix.\n",
    "    Normalization can be applied by setting `normalize=True`.\n",
    "    \"\"\"\n",
    "    if normalize:\n",
    "        cm = cm.astype('float') / cm.sum(axis=1)[:, np.newaxis]\n",
    "        print(\"Normalized confusion matrix\")\n",
    "    else:\n",
    "        print('Confusion matrix, without normalization')\n",
    "\n",
    "    print(cm)\n",
    "\n",
    "    plt.imshow(cm, interpolation='nearest', cmap=cmap)\n",
    "    plt.title(title)\n",
    "    plt.colorbar()\n",
    "    tick_marks = np.arange(len(classes))\n",
    "    plt.xticks(tick_marks, classes, rotation=45)\n",
    "    plt.yticks(tick_marks, classes)\n",
    "\n",
    "    fmt = '.2f' if normalize else 'd'\n",
    "    thresh = cm.max() / 2.\n",
    "    for i, j in itertools.product(range(cm.shape[0]), range(cm.shape[1])):\n",
    "        plt.text(j, i, format(cm[i, j], fmt),\n",
    "                 horizontalalignment=\"center\",\n",
    "                 color=\"white\" if cm[i, j] > thresh else \"black\")\n",
    "\n",
    "    plt.tight_layout()\n",
    "    plt.ylabel('True label')\n",
    "    plt.xlabel('Predicted label')"
   ]
  },
  {
   "cell_type": "code",
   "execution_count": 99,
   "metadata": {},
   "outputs": [
    {
     "name": "stdout",
     "output_type": "stream",
     "text": [
      "              precision    recall  f1-score   support\n",
      "\n",
      "           2       0.00      0.00      0.00        27\n",
      "           4       0.58      1.00      0.73        37\n",
      "\n",
      "    accuracy                           0.58        64\n",
      "   macro avg       0.29      0.50      0.37        64\n",
      "weighted avg       0.33      0.58      0.42        64\n",
      "\n",
      "Confusion matrix, without normalization\n",
      "[[37  0]\n",
      " [27  0]]\n"
     ]
    },
    {
     "name": "stderr",
     "output_type": "stream",
     "text": [
      "/Users/cdm_oz/opt/anaconda3/lib/python3.7/site-packages/sklearn/metrics/_classification.py:1272: UndefinedMetricWarning: Precision and F-score are ill-defined and being set to 0.0 in labels with no predicted samples. Use `zero_division` parameter to control this behavior.\n",
      "  _warn_prf(average, modifier, msg_start, len(result))\n"
     ]
    },
    {
     "data": {
      "image/png": "[encoded data removed]",
      "text/plain": [
       "<Figure size 432x288 with 2 Axes>"
      ]
     },
     "metadata": {
      "needs_background": "light"
     },
     "output_type": "display_data"
    }
   ],
   "source": [
    "cnf_matrix = confusion_matrix(y_test, yhat, labels=[4,2])\n",
    "np.set_printoptions(precision=2)\n",
    "\n",
    "print (classification_report(y_test, yhat))\n",
    "\n",
    "# Plot non-normalized confusion matrix\n",
    "plt.figure()\n",
    "plot_confusion_matrix(cnf_matrix, classes=['Nondemented(4)','Demented(2)'],normalize= False,  title='Confusion matrix')"
   ]
  },
  {
   "cell_type": "code",
   "execution_count": 100,
   "metadata": {},
   "outputs": [
    {
     "data": {
      "text/plain": [
       "0.42357673267326734"
      ]
     },
     "execution_count": 100,
     "metadata": {},
     "output_type": "execute_result"
    }
   ],
   "source": [
    "from sklearn.metrics import f1_score\n",
    "f1_score(y_test, yhat, average='weighted') "
   ]
  },
  {
   "cell_type": "code",
   "execution_count": 101,
   "metadata": {},
   "outputs": [
    {
     "name": "stderr",
     "output_type": "stream",
     "text": [
      "/Users/cdm_oz/opt/anaconda3/lib/python3.7/site-packages/sklearn/metrics/_classification.py:664: FutureWarning: jaccard_similarity_score has been deprecated and replaced with jaccard_score. It will be removed in version 0.23. This implementation has surprising behavior for binary and multiclass classification tasks.\n",
      "  FutureWarning)\n"
     ]
    },
    {
     "data": {
      "text/plain": [
       "0.578125"
      ]
     },
     "execution_count": 101,
     "metadata": {},
     "output_type": "execute_result"
    }
   ],
   "source": [
    "from sklearn.metrics import jaccard_similarity_score\n",
    "jaccard_similarity_score(y_test, yhat)"
   ]
  },
  {
   "cell_type": "markdown",
   "metadata": {},
   "source": [
    "So, Support Vector Machine accuracy was quite low for the selected parameters. It easily detected the data points marked as \"nondemented\", while systematically made errors for the category 'demented'. We could suggest that such behavior of the model could also depend on dataset characteristics.\n",
    "\n",
    "This time we will use logistic regression."
   ]
  },
  {
   "cell_type": "code",
   "execution_count": 76,
   "metadata": {},
   "outputs": [
    {
     "data": {
      "text/plain": [
       "array([[8.70e+01, 1.00e+00, 1.00e+00, 1.40e+01, 2.70e+01, 0.00e+00,\n",
       "        1.99e+03, 6.96e-01, 8.83e-01],\n",
       "       [8.80e+01, 1.00e+00, 1.00e+00, 1.40e+01, 3.00e+01, 0.00e+00,\n",
       "        2.00e+03, 6.81e-01, 8.76e-01],\n",
       "       [8.80e+01, 0.00e+00, 1.00e+00, 1.80e+01, 2.80e+01, 0.00e+00,\n",
       "        1.22e+03, 7.10e-01, 1.44e+00],\n",
       "       [9.00e+01, 0.00e+00, 1.00e+00, 1.80e+01, 2.70e+01, 0.00e+00,\n",
       "        1.20e+03, 7.18e-01, 1.46e+00],\n",
       "       [8.00e+01, 1.00e+00, 1.00e+00, 1.20e+01, 2.80e+01, 0.00e+00,\n",
       "        1.69e+03, 7.12e-01, 1.04e+00]])"
      ]
     },
     "execution_count": 76,
     "metadata": {},
     "output_type": "execute_result"
    }
   ],
   "source": [
    "X = np.asarray(df[['Age', 'M/F', 'Hand', 'EDUC', 'MMSE', 'CDR', 'eTIV', 'nWBV', 'ASF']])\n",
    "X[0:5]"
   ]
  },
  {
   "cell_type": "code",
   "execution_count": 77,
   "metadata": {},
   "outputs": [
    {
     "data": {
      "text/plain": [
       "array([4, 4, 4, 4, 4])"
      ]
     },
     "execution_count": 77,
     "metadata": {},
     "output_type": "execute_result"
    }
   ],
   "source": [
    "y = np.asarray(df['Group'])\n",
    "y [0:5]"
   ]
  },
  {
   "cell_type": "code",
   "execution_count": 78,
   "metadata": {},
   "outputs": [
    {
     "data": {
      "text/plain": [
       "array([[ 1.32,  1.15,  0.  , -0.21, -0.07, -0.72,  2.75, -0.91, -2.21],\n",
       "       [ 1.45,  1.15,  0.  , -0.21,  0.71, -0.72,  2.84, -1.3 , -2.26],\n",
       "       [ 1.45, -0.87,  0.  ,  1.16,  0.19, -0.72, -1.55, -0.54,  1.81],\n",
       "       [ 1.7 , -0.87,  0.  ,  1.16, -0.07, -0.72, -1.64, -0.33,  1.94],\n",
       "       [ 0.42,  1.15,  0.  , -0.89,  0.19, -0.72,  1.09, -0.49, -1.09]])"
      ]
     },
     "execution_count": 78,
     "metadata": {},
     "output_type": "execute_result"
    }
   ],
   "source": [
    "from sklearn import preprocessing\n",
    "X = preprocessing.StandardScaler().fit(X).transform(X)\n",
    "X[0:5]"
   ]
  },
  {
   "cell_type": "code",
   "execution_count": 79,
   "metadata": {},
   "outputs": [
    {
     "name": "stdout",
     "output_type": "stream",
     "text": [
      "Train set: (253, 9) (253,)\n",
      "Test set: (64, 9) (64,)\n"
     ]
    }
   ],
   "source": [
    "from sklearn.model_selection import train_test_split\n",
    "X_train, X_test, y_train, y_test = train_test_split( X, y, test_size=0.2, random_state=4)\n",
    "print ('Train set:', X_train.shape,  y_train.shape)\n",
    "print ('Test set:', X_test.shape,  y_test.shape)"
   ]
  },
  {
   "cell_type": "code",
   "execution_count": 80,
   "metadata": {},
   "outputs": [
    {
     "data": {
      "text/plain": [
       "LogisticRegression(C=0.01, class_weight=None, dual=False, fit_intercept=True,\n",
       "                   intercept_scaling=1, l1_ratio=None, max_iter=100,\n",
       "                   multi_class='auto', n_jobs=None, penalty='l2',\n",
       "                   random_state=None, solver='liblinear', tol=0.0001, verbose=0,\n",
       "                   warm_start=False)"
      ]
     },
     "execution_count": 80,
     "metadata": {},
     "output_type": "execute_result"
    }
   ],
   "source": [
    "from sklearn.linear_model import LogisticRegression\n",
    "from sklearn.metrics import confusion_matrix\n",
    "LR = LogisticRegression(C=0.01, solver='liblinear').fit(X_train,y_train)\n",
    "LR"
   ]
  },
  {
   "cell_type": "code",
   "execution_count": 81,
   "metadata": {},
   "outputs": [
    {
     "data": {
      "text/plain": [
       "array([4, 4, 4, 2, 4, 2, 4, 4, 2, 2, 2, 4, 2, 4, 4, 2, 4, 4, 4, 4, 4, 4,\n",
       "       4, 2, 4, 2, 4, 4, 4, 2, 4, 4, 2, 2, 2, 4, 4, 4, 4, 4, 4, 4, 2, 4,\n",
       "       2, 4, 2, 4, 4, 2, 2, 2, 4, 2, 4, 2, 2, 4, 4, 4, 2, 4, 2, 4])"
      ]
     },
     "execution_count": 81,
     "metadata": {},
     "output_type": "execute_result"
    }
   ],
   "source": [
    "yhat = LR.predict(X_test)\n",
    "yhat"
   ]
  },
  {
   "cell_type": "code",
   "execution_count": 82,
   "metadata": {},
   "outputs": [
    {
     "data": {
      "text/plain": [
       "array([[0.31, 0.69],\n",
       "       [0.26, 0.74],\n",
       "       [0.24, 0.76],\n",
       "       [0.51, 0.49],\n",
       "       [0.26, 0.74],\n",
       "       [0.63, 0.37],\n",
       "       [0.29, 0.71],\n",
       "       [0.28, 0.72],\n",
       "       [0.65, 0.35],\n",
       "       [0.67, 0.33],\n",
       "       [0.52, 0.48],\n",
       "       [0.35, 0.65],\n",
       "       [0.88, 0.12],\n",
       "       [0.32, 0.68],\n",
       "       [0.45, 0.55],\n",
       "       [0.91, 0.09],\n",
       "       [0.49, 0.51],\n",
       "       [0.25, 0.75],\n",
       "       [0.37, 0.63],\n",
       "       [0.25, 0.75],\n",
       "       [0.27, 0.73],\n",
       "       [0.28, 0.72],\n",
       "       [0.37, 0.63],\n",
       "       [0.77, 0.23],\n",
       "       [0.24, 0.76],\n",
       "       [0.55, 0.45],\n",
       "       [0.32, 0.68],\n",
       "       [0.25, 0.75],\n",
       "       [0.33, 0.67],\n",
       "       [0.64, 0.36],\n",
       "       [0.36, 0.64],\n",
       "       [0.29, 0.71],\n",
       "       [0.71, 0.29],\n",
       "       [0.75, 0.25],\n",
       "       [0.56, 0.44],\n",
       "       [0.27, 0.73],\n",
       "       [0.48, 0.52],\n",
       "       [0.3 , 0.7 ],\n",
       "       [0.36, 0.64],\n",
       "       [0.45, 0.55],\n",
       "       [0.26, 0.74],\n",
       "       [0.2 , 0.8 ],\n",
       "       [0.9 , 0.1 ],\n",
       "       [0.22, 0.78],\n",
       "       [0.52, 0.48],\n",
       "       [0.26, 0.74],\n",
       "       [0.57, 0.43],\n",
       "       [0.34, 0.66],\n",
       "       [0.22, 0.78],\n",
       "       [0.95, 0.05],\n",
       "       [0.53, 0.47],\n",
       "       [0.72, 0.28],\n",
       "       [0.45, 0.55],\n",
       "       [0.57, 0.43],\n",
       "       [0.25, 0.75],\n",
       "       [0.59, 0.41],\n",
       "       [0.89, 0.11],\n",
       "       [0.34, 0.66],\n",
       "       [0.36, 0.64],\n",
       "       [0.47, 0.53],\n",
       "       [0.51, 0.49],\n",
       "       [0.28, 0.72],\n",
       "       [0.97, 0.03],\n",
       "       [0.41, 0.59]])"
      ]
     },
     "execution_count": 82,
     "metadata": {},
     "output_type": "execute_result"
    }
   ],
   "source": [
    "yhat_prob = LR.predict_proba(X_test)\n",
    "yhat_prob"
   ]
  },
  {
   "cell_type": "code",
   "execution_count": 83,
   "metadata": {},
   "outputs": [
    {
     "name": "stderr",
     "output_type": "stream",
     "text": [
      "/Users/cdm_oz/opt/anaconda3/lib/python3.7/site-packages/sklearn/metrics/_classification.py:664: FutureWarning: jaccard_similarity_score has been deprecated and replaced with jaccard_score. It will be removed in version 0.23. This implementation has surprising behavior for binary and multiclass classification tasks.\n",
      "  FutureWarning)\n"
     ]
    },
    {
     "data": {
      "text/plain": [
       "0.921875"
      ]
     },
     "execution_count": 83,
     "metadata": {},
     "output_type": "execute_result"
    }
   ],
   "source": [
    "from sklearn.metrics import jaccard_similarity_score\n",
    "jaccard_similarity_score(y_test, yhat)"
   ]
  },
  {
   "cell_type": "code",
   "execution_count": 84,
   "metadata": {},
   "outputs": [
    {
     "name": "stdout",
     "output_type": "stream",
     "text": [
      "Confusion matrix, without normalization\n",
      "[[36  1]\n",
      " [ 4 23]]\n"
     ]
    },
    {
     "data": {
      "image/png": "[encoded data removed]",
      "text/plain": [
       "<Figure size 432x288 with 2 Axes>"
      ]
     },
     "metadata": {
      "needs_background": "light"
     },
     "output_type": "display_data"
    }
   ],
   "source": [
    "cnf_matrix = confusion_matrix(y_test, yhat, labels=[4,2])\n",
    "np.set_printoptions(precision=2)\n",
    "\n",
    "\n",
    "# Plot non-normalized confusion matrix\n",
    "plt.figure()\n",
    "plot_confusion_matrix(cnf_matrix, classes=['nondemented=4','demented=2'],normalize= False,  title='Confusion matrix')"
   ]
  },
  {
   "cell_type": "code",
   "execution_count": 87,
   "metadata": {},
   "outputs": [
    {
     "name": "stdout",
     "output_type": "stream",
     "text": [
      "              precision    recall  f1-score   support\n",
      "\n",
      "           2       0.96      0.85      0.90        27\n",
      "           4       0.90      0.97      0.94        37\n",
      "\n",
      "    accuracy                           0.92        64\n",
      "   macro avg       0.93      0.91      0.92        64\n",
      "weighted avg       0.92      0.92      0.92        64\n",
      "\n"
     ]
    }
   ],
   "source": [
    "print (classification_report(y_test, yhat))"
   ]
  },
  {
   "cell_type": "code",
   "execution_count": 88,
   "metadata": {},
   "outputs": [
    {
     "data": {
      "text/plain": [
       "0.40527648352467643"
      ]
     },
     "execution_count": 88,
     "metadata": {},
     "output_type": "execute_result"
    }
   ],
   "source": [
    "from sklearn.metrics import log_loss\n",
    "log_loss(y_test, yhat_prob)"
   ]
  },
  {
   "cell_type": "markdown",
   "metadata": {},
   "source": [
    "Now the predictions look better. The model is still not perfect, but now it identifies non-demented and demented patients more correctly. \n",
    "\n",
    "To check our main hypothesis - if the brain data have an added value to put into diagnostics of neurodegenerative disorders, let's calculate the logistic regression on brain data only and then compare it to the results of the model on psychological and demographic characteristics only."
   ]
  },
  {
   "cell_type": "code",
   "execution_count": 102,
   "metadata": {},
   "outputs": [
    {
     "data": {
      "text/plain": [
       "array([[1.99e+03, 6.96e-01, 8.83e-01],\n",
       "       [2.00e+03, 6.81e-01, 8.76e-01],\n",
       "       [1.22e+03, 7.10e-01, 1.44e+00],\n",
       "       [1.20e+03, 7.18e-01, 1.46e+00],\n",
       "       [1.69e+03, 7.12e-01, 1.04e+00]])"
      ]
     },
     "execution_count": 102,
     "metadata": {},
     "output_type": "execute_result"
    }
   ],
   "source": [
    "X = np.asarray(df[['eTIV', 'nWBV', 'ASF']])\n",
    "X[0:5]\n"
   ]
  },
  {
   "cell_type": "code",
   "execution_count": 103,
   "metadata": {},
   "outputs": [
    {
     "data": {
      "text/plain": [
       "array([4, 4, 4, 4, 4])"
      ]
     },
     "execution_count": 103,
     "metadata": {},
     "output_type": "execute_result"
    }
   ],
   "source": [
    "y = np.asarray(df['Group'])\n",
    "y [0:5]"
   ]
  },
  {
   "cell_type": "code",
   "execution_count": 104,
   "metadata": {},
   "outputs": [
    {
     "data": {
      "text/plain": [
       "array([[ 2.75, -0.91, -2.21],\n",
       "       [ 2.84, -1.3 , -2.26],\n",
       "       [-1.55, -0.54,  1.81],\n",
       "       [-1.64, -0.33,  1.94],\n",
       "       [ 1.09, -0.49, -1.09]])"
      ]
     },
     "execution_count": 104,
     "metadata": {},
     "output_type": "execute_result"
    }
   ],
   "source": [
    "from sklearn import preprocessing\n",
    "X = preprocessing.StandardScaler().fit(X).transform(X)\n",
    "X[0:5]"
   ]
  },
  {
   "cell_type": "code",
   "execution_count": 105,
   "metadata": {},
   "outputs": [
    {
     "name": "stdout",
     "output_type": "stream",
     "text": [
      "Train set: (253, 3) (253,)\n",
      "Test set: (64, 3) (64,)\n"
     ]
    }
   ],
   "source": [
    "from sklearn.model_selection import train_test_split\n",
    "X_train, X_test, y_train, y_test = train_test_split( X, y, test_size=0.2, random_state=4)\n",
    "print ('Train set:', X_train.shape,  y_train.shape)\n",
    "print ('Test set:', X_test.shape,  y_test.shape)"
   ]
  },
  {
   "cell_type": "code",
   "execution_count": 106,
   "metadata": {},
   "outputs": [
    {
     "data": {
      "text/plain": [
       "LogisticRegression(C=0.01, class_weight=None, dual=False, fit_intercept=True,\n",
       "                   intercept_scaling=1, l1_ratio=None, max_iter=100,\n",
       "                   multi_class='auto', n_jobs=None, penalty='l2',\n",
       "                   random_state=None, solver='liblinear', tol=0.0001, verbose=0,\n",
       "                   warm_start=False)"
      ]
     },
     "execution_count": 106,
     "metadata": {},
     "output_type": "execute_result"
    }
   ],
   "source": [
    "from sklearn.linear_model import LogisticRegression\n",
    "from sklearn.metrics import confusion_matrix\n",
    "LR = LogisticRegression(C=0.01, solver='liblinear').fit(X_train,y_train)\n",
    "LR"
   ]
  },
  {
   "cell_type": "code",
   "execution_count": 107,
   "metadata": {},
   "outputs": [
    {
     "data": {
      "text/plain": [
       "array([4, 4, 2, 4, 4, 4, 4, 4, 2, 4, 4, 2, 2, 2, 2, 2, 4, 4, 2, 4, 4, 4,\n",
       "       2, 2, 4, 4, 2, 4, 4, 2, 2, 4, 4, 4, 4, 4, 4, 2, 2, 4, 4, 4, 2, 4,\n",
       "       4, 4, 4, 4, 4, 2, 4, 2, 4, 2, 4, 4, 2, 2, 2, 2, 4, 4, 2, 2])"
      ]
     },
     "execution_count": 107,
     "metadata": {},
     "output_type": "execute_result"
    }
   ],
   "source": [
    "yhat = LR.predict(X_test)\n",
    "yhat"
   ]
  },
  {
   "cell_type": "code",
   "execution_count": 108,
   "metadata": {
    "scrolled": true
   },
   "outputs": [
    {
     "data": {
      "text/plain": [
       "array([[0.43, 0.57],\n",
       "       [0.38, 0.62],\n",
       "       [0.54, 0.46],\n",
       "       [0.44, 0.56],\n",
       "       [0.4 , 0.6 ],\n",
       "       [0.49, 0.51],\n",
       "       [0.45, 0.55],\n",
       "       [0.39, 0.61],\n",
       "       [0.53, 0.47],\n",
       "       [0.48, 0.52],\n",
       "       [0.38, 0.62],\n",
       "       [0.5 , 0.5 ],\n",
       "       [0.55, 0.45],\n",
       "       [0.51, 0.49],\n",
       "       [0.59, 0.41],\n",
       "       [0.53, 0.47],\n",
       "       [0.42, 0.58],\n",
       "       [0.38, 0.62],\n",
       "       [0.55, 0.45],\n",
       "       [0.38, 0.62],\n",
       "       [0.42, 0.58],\n",
       "       [0.43, 0.57],\n",
       "       [0.5 , 0.5 ],\n",
       "       [0.56, 0.44],\n",
       "       [0.41, 0.59],\n",
       "       [0.45, 0.55],\n",
       "       [0.52, 0.48],\n",
       "       [0.43, 0.57],\n",
       "       [0.41, 0.59],\n",
       "       [0.56, 0.44],\n",
       "       [0.54, 0.46],\n",
       "       [0.48, 0.52],\n",
       "       [0.47, 0.53],\n",
       "       [0.41, 0.59],\n",
       "       [0.4 , 0.6 ],\n",
       "       [0.41, 0.59],\n",
       "       [0.4 , 0.6 ],\n",
       "       [0.56, 0.44],\n",
       "       [0.56, 0.44],\n",
       "       [0.39, 0.61],\n",
       "       [0.39, 0.61],\n",
       "       [0.3 , 0.7 ],\n",
       "       [0.55, 0.45],\n",
       "       [0.3 , 0.7 ],\n",
       "       [0.49, 0.51],\n",
       "       [0.44, 0.56],\n",
       "       [0.49, 0.51],\n",
       "       [0.48, 0.52],\n",
       "       [0.34, 0.66],\n",
       "       [0.59, 0.41],\n",
       "       [0.4 , 0.6 ],\n",
       "       [0.57, 0.43],\n",
       "       [0.4 , 0.6 ],\n",
       "       [0.51, 0.49],\n",
       "       [0.43, 0.57],\n",
       "       [0.46, 0.54],\n",
       "       [0.57, 0.43],\n",
       "       [0.51, 0.49],\n",
       "       [0.62, 0.38],\n",
       "       [0.57, 0.43],\n",
       "       [0.48, 0.52],\n",
       "       [0.43, 0.57],\n",
       "       [0.56, 0.44],\n",
       "       [0.56, 0.44]])"
      ]
     },
     "execution_count": 108,
     "metadata": {},
     "output_type": "execute_result"
    }
   ],
   "source": [
    "yhat_prob = LR.predict_proba(X_test)\n",
    "yhat_prob"
   ]
  },
  {
   "cell_type": "code",
   "execution_count": 109,
   "metadata": {},
   "outputs": [
    {
     "name": "stderr",
     "output_type": "stream",
     "text": [
      "/Users/cdm_oz/opt/anaconda3/lib/python3.7/site-packages/sklearn/metrics/_classification.py:664: FutureWarning: jaccard_similarity_score has been deprecated and replaced with jaccard_score. It will be removed in version 0.23. This implementation has surprising behavior for binary and multiclass classification tasks.\n",
      "  FutureWarning)\n"
     ]
    },
    {
     "data": {
      "text/plain": [
       "0.53125"
      ]
     },
     "execution_count": 109,
     "metadata": {},
     "output_type": "execute_result"
    }
   ],
   "source": [
    "from sklearn.metrics import jaccard_similarity_score\n",
    "jaccard_similarity_score(y_test, yhat)"
   ]
  },
  {
   "cell_type": "code",
   "execution_count": 110,
   "metadata": {},
   "outputs": [
    {
     "name": "stdout",
     "output_type": "stream",
     "text": [
      "Confusion matrix, without normalization\n",
      "[[23 14]\n",
      " [16 11]]\n"
     ]
    },
    {
     "data": {
      "image/png": "[encoded data removed]",
      "text/plain": [
       "<Figure size 432x288 with 2 Axes>"
      ]
     },
     "metadata": {
      "needs_background": "light"
     },
     "output_type": "display_data"
    }
   ],
   "source": [
    "cnf_matrix = confusion_matrix(y_test, yhat, labels=[4,2])\n",
    "np.set_printoptions(precision=2)\n",
    "\n",
    "\n",
    "# Plot non-normalized confusion matrix\n",
    "plt.figure()\n",
    "plot_confusion_matrix(cnf_matrix, classes=['nondemented=4','demented=2'],normalize= False,  title='Confusion matrix')"
   ]
  },
  {
   "cell_type": "code",
   "execution_count": 111,
   "metadata": {},
   "outputs": [
    {
     "data": {
      "text/plain": [
       "0.6702827425765071"
      ]
     },
     "execution_count": 111,
     "metadata": {},
     "output_type": "execute_result"
    }
   ],
   "source": [
    "from sklearn.metrics import log_loss\n",
    "log_loss(y_test, yhat_prob)"
   ]
  },
  {
   "cell_type": "markdown",
   "metadata": {},
   "source": [
    "Now the quality of model prediction worsened. Confusion matrix show higher number of false positives and false negatives. Our last step, before we draw a conclusion - to check the model with psychological data.\n"
   ]
  },
  {
   "cell_type": "code",
   "execution_count": 112,
   "metadata": {},
   "outputs": [
    {
     "data": {
      "text/plain": [
       "array([[87.,  1.,  1., 14., 27.,  0.],\n",
       "       [88.,  1.,  1., 14., 30.,  0.],\n",
       "       [88.,  0.,  1., 18., 28.,  0.],\n",
       "       [90.,  0.,  1., 18., 27.,  0.],\n",
       "       [80.,  1.,  1., 12., 28.,  0.]])"
      ]
     },
     "execution_count": 112,
     "metadata": {},
     "output_type": "execute_result"
    }
   ],
   "source": [
    "X = np.asarray(df[['Age', 'M/F', 'Hand', 'EDUC', 'MMSE', 'CDR']])\n",
    "X[0:5]"
   ]
  },
  {
   "cell_type": "code",
   "execution_count": 113,
   "metadata": {},
   "outputs": [
    {
     "data": {
      "text/plain": [
       "array([4, 4, 4, 4, 4])"
      ]
     },
     "execution_count": 113,
     "metadata": {},
     "output_type": "execute_result"
    }
   ],
   "source": [
    "y = np.asarray(df['Group'])\n",
    "y [0:5]"
   ]
  },
  {
   "cell_type": "code",
   "execution_count": 114,
   "metadata": {},
   "outputs": [
    {
     "data": {
      "text/plain": [
       "array([[ 1.32,  1.15,  0.  , -0.21, -0.07, -0.72],\n",
       "       [ 1.45,  1.15,  0.  , -0.21,  0.71, -0.72],\n",
       "       [ 1.45, -0.87,  0.  ,  1.16,  0.19, -0.72],\n",
       "       [ 1.7 , -0.87,  0.  ,  1.16, -0.07, -0.72],\n",
       "       [ 0.42,  1.15,  0.  , -0.89,  0.19, -0.72]])"
      ]
     },
     "execution_count": 114,
     "metadata": {},
     "output_type": "execute_result"
    }
   ],
   "source": [
    "from sklearn import preprocessing\n",
    "X = preprocessing.StandardScaler().fit(X).transform(X)\n",
    "X[0:5]"
   ]
  },
  {
   "cell_type": "code",
   "execution_count": 115,
   "metadata": {},
   "outputs": [
    {
     "name": "stdout",
     "output_type": "stream",
     "text": [
      "Train set: (253, 6) (253,)\n",
      "Test set: (64, 6) (64,)\n"
     ]
    }
   ],
   "source": [
    "from sklearn.model_selection import train_test_split\n",
    "X_train, X_test, y_train, y_test = train_test_split( X, y, test_size=0.2, random_state=4)\n",
    "print ('Train set:', X_train.shape,  y_train.shape)\n",
    "print ('Test set:', X_test.shape,  y_test.shape)"
   ]
  },
  {
   "cell_type": "code",
   "execution_count": 116,
   "metadata": {},
   "outputs": [
    {
     "data": {
      "text/plain": [
       "LogisticRegression(C=0.01, class_weight=None, dual=False, fit_intercept=True,\n",
       "                   intercept_scaling=1, l1_ratio=None, max_iter=100,\n",
       "                   multi_class='auto', n_jobs=None, penalty='l2',\n",
       "                   random_state=None, solver='liblinear', tol=0.0001, verbose=0,\n",
       "                   warm_start=False)"
      ]
     },
     "execution_count": 116,
     "metadata": {},
     "output_type": "execute_result"
    }
   ],
   "source": [
    "from sklearn.linear_model import LogisticRegression\n",
    "from sklearn.metrics import confusion_matrix\n",
    "LR = LogisticRegression(C=0.01, solver='liblinear').fit(X_train,y_train)\n",
    "LR"
   ]
  },
  {
   "cell_type": "code",
   "execution_count": 117,
   "metadata": {},
   "outputs": [
    {
     "data": {
      "text/plain": [
       "array([4, 4, 4, 2, 4, 2, 4, 4, 2, 2, 2, 4, 2, 4, 4, 2, 2, 4, 4, 4, 4, 4,\n",
       "       4, 2, 4, 2, 4, 4, 4, 2, 4, 4, 2, 2, 2, 4, 2, 4, 4, 4, 4, 4, 2, 4,\n",
       "       2, 4, 2, 4, 4, 2, 2, 2, 4, 2, 4, 2, 2, 4, 4, 4, 4, 4, 2, 4])"
      ]
     },
     "execution_count": 117,
     "metadata": {},
     "output_type": "execute_result"
    }
   ],
   "source": [
    "yhat = LR.predict(X_test)\n",
    "yhat"
   ]
  },
  {
   "cell_type": "code",
   "execution_count": 118,
   "metadata": {},
   "outputs": [
    {
     "data": {
      "text/plain": [
       "array([[0.32, 0.68],\n",
       "       [0.3 , 0.7 ],\n",
       "       [0.21, 0.79],\n",
       "       [0.52, 0.48],\n",
       "       [0.3 , 0.7 ],\n",
       "       [0.62, 0.38],\n",
       "       [0.28, 0.72],\n",
       "       [0.31, 0.69],\n",
       "       [0.62, 0.38],\n",
       "       [0.67, 0.33],\n",
       "       [0.58, 0.42],\n",
       "       [0.31, 0.69],\n",
       "       [0.86, 0.14],\n",
       "       [0.28, 0.72],\n",
       "       [0.37, 0.63],\n",
       "       [0.9 , 0.1 ],\n",
       "       [0.51, 0.49],\n",
       "       [0.27, 0.73],\n",
       "       [0.31, 0.69],\n",
       "       [0.27, 0.73],\n",
       "       [0.29, 0.71],\n",
       "       [0.28, 0.72],\n",
       "       [0.35, 0.65],\n",
       "       [0.74, 0.26],\n",
       "       [0.25, 0.75],\n",
       "       [0.56, 0.44],\n",
       "       [0.29, 0.71],\n",
       "       [0.25, 0.75],\n",
       "       [0.35, 0.65],\n",
       "       [0.6 , 0.4 ],\n",
       "       [0.34, 0.66],\n",
       "       [0.27, 0.73],\n",
       "       [0.71, 0.29],\n",
       "       [0.79, 0.21],\n",
       "       [0.62, 0.38],\n",
       "       [0.29, 0.71],\n",
       "       [0.51, 0.49],\n",
       "       [0.25, 0.75],\n",
       "       [0.31, 0.69],\n",
       "       [0.49, 0.51],\n",
       "       [0.27, 0.73],\n",
       "       [0.26, 0.74],\n",
       "       [0.89, 0.11],\n",
       "       [0.29, 0.71],\n",
       "       [0.51, 0.49],\n",
       "       [0.27, 0.73],\n",
       "       [0.56, 0.44],\n",
       "       [0.33, 0.67],\n",
       "       [0.27, 0.73],\n",
       "       [0.95, 0.05],\n",
       "       [0.57, 0.43],\n",
       "       [0.68, 0.32],\n",
       "       [0.47, 0.53],\n",
       "       [0.53, 0.47],\n",
       "       [0.26, 0.74],\n",
       "       [0.59, 0.41],\n",
       "       [0.86, 0.14],\n",
       "       [0.31, 0.69],\n",
       "       [0.27, 0.73],\n",
       "       [0.41, 0.59],\n",
       "       [0.48, 0.52],\n",
       "       [0.29, 0.71],\n",
       "       [0.96, 0.04],\n",
       "       [0.36, 0.64]])"
      ]
     },
     "execution_count": 118,
     "metadata": {},
     "output_type": "execute_result"
    }
   ],
   "source": [
    "yhat_prob = LR.predict_proba(X_test)\n",
    "yhat_prob"
   ]
  },
  {
   "cell_type": "code",
   "execution_count": 119,
   "metadata": {},
   "outputs": [
    {
     "name": "stderr",
     "output_type": "stream",
     "text": [
      "/Users/cdm_oz/opt/anaconda3/lib/python3.7/site-packages/sklearn/metrics/_classification.py:664: FutureWarning: jaccard_similarity_score has been deprecated and replaced with jaccard_score. It will be removed in version 0.23. This implementation has surprising behavior for binary and multiclass classification tasks.\n",
      "  FutureWarning)\n"
     ]
    },
    {
     "data": {
      "text/plain": [
       "0.9375"
      ]
     },
     "execution_count": 119,
     "metadata": {},
     "output_type": "execute_result"
    }
   ],
   "source": [
    "from sklearn.metrics import jaccard_similarity_score\n",
    "jaccard_similarity_score(y_test, yhat)"
   ]
  },
  {
   "cell_type": "code",
   "execution_count": 120,
   "metadata": {},
   "outputs": [
    {
     "name": "stdout",
     "output_type": "stream",
     "text": [
      "Confusion matrix, without normalization\n",
      "[[36  1]\n",
      " [ 3 24]]\n"
     ]
    },
    {
     "data": {
      "image/png": "[encoded data removed]",
      "text/plain": [
       "<Figure size 432x288 with 2 Axes>"
      ]
     },
     "metadata": {
      "needs_background": "light"
     },
     "output_type": "display_data"
    }
   ],
   "source": [
    "cnf_matrix = confusion_matrix(y_test, yhat, labels=[4,2])\n",
    "np.set_printoptions(precision=2)\n",
    "\n",
    "\n",
    "# Plot non-normalized confusion matrix\n",
    "plt.figure()\n",
    "plot_confusion_matrix(cnf_matrix, classes=['nondemented=4','demented=2'],normalize= False,  title='Confusion matrix')"
   ]
  },
  {
   "cell_type": "code",
   "execution_count": 121,
   "metadata": {},
   "outputs": [
    {
     "data": {
      "text/plain": [
       "0.40276227888844357"
      ]
     },
     "execution_count": 121,
     "metadata": {},
     "output_type": "execute_result"
    }
   ],
   "source": [
    "from sklearn.metrics import log_loss\n",
    "log_loss(y_test, yhat_prob)"
   ]
  },
  {
   "cell_type": "markdown",
   "metadata": {},
   "source": [
    "So, if we compare confusion matrices for \"brain&tests\", \"brain only\" and \"tests only\" models, we will conclude that the \"brain&tests\" and \"tests only\" provides comparable results, while \"brain only\" model is not sufficient. Thus, based on this dataset we could assume that the brain data without the test data do not provide sufficient evidence to classify these two groups of observations."
   ]
  }
 ],
 "metadata": {
  "kernelspec": {
   "display_name": "Python 3",
   "language": "python",
   "name": "python3"
  },
  "language_info": {
   "codemirror_mode": {
    "name": "ipython",
    "version": 3
   },
   "file_extension": ".py",
   "mimetype": "text/x-python",
   "name": "python",
   "nbconvert_exporter": "python",
   "pygments_lexer": "ipython3",
   "version": "3.7.6"
  }
 },
 "nbformat": 4,
 "nbformat_minor": 4
}
